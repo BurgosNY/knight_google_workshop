{
 "cells": [
  {
   "cell_type": "markdown",
   "metadata": {},
   "source": [
    "## Airtable tests"
   ]
  },
  {
   "cell_type": "code",
   "execution_count": 8,
   "metadata": {},
   "outputs": [],
   "source": [
    "import requests\n",
    "\n",
    "# Apenas para deixar os dados escondidos\n",
    "import os\n",
    "from dotenv import find_dotenv, load_dotenv\n",
    "load_dotenv(find_dotenv())\n",
    "\n",
    "\n",
    "airtable_api = os.environ.get('AIRTABLE_KEY')\n",
    "airtable_fonte_api_url = 'https://api.airtable.com/v0/appCmmcOxNBLaO89F/Table%201'\n",
    "facebook_token = os.environ.get('FACEBOOK_TOKEN')"
   ]
  },
  {
   "cell_type": "code",
   "execution_count": 9,
   "metadata": {},
   "outputs": [],
   "source": [
    "# Lendo a tabela\n",
    "url = f'{airtable_fonte_api_url}?api_key={airtable_api}'\n",
    "requisicao = requests.get(url)\n",
    "veiculos = requisicao.json()"
   ]
  },
  {
   "cell_type": "code",
   "execution_count": 12,
   "metadata": {},
   "outputs": [
    {
     "data": {
      "text/plain": [
       "[{'createdTime': '2018-02-19T18:15:59.713Z',\n",
       "  'fields': {'Name': 'O globo', 'facebook_id': 115230991849922},\n",
       "  'id': 'rec4u7Iv5r1BsFpO9'},\n",
       " {'createdTime': '2018-02-19T18:24:00.159Z',\n",
       "  'fields': {'Name': 'Estadão', 'facebook_id': 12312312321},\n",
       "  'id': 'rec51V8Qlxb2abmx9'},\n",
       " {'createdTime': '2018-02-19T18:15:59.713Z',\n",
       "  'fields': {'Name': 'Folha de S. Paulo', 'facebook_id': 100114543363891},\n",
       "  'id': 'recDT6XepDD6b7quL'}]"
      ]
     },
     "execution_count": 12,
     "metadata": {},
     "output_type": "execute_result"
    }
   ],
   "source": [
    "veiculos['records']"
   ]
  },
  {
   "cell_type": "code",
   "execution_count": null,
   "metadata": {},
   "outputs": [],
   "source": [
    "# Transformando em dicionários"
   ]
  },
  {
   "cell_type": "code",
   "execution_count": 13,
   "metadata": {},
   "outputs": [],
   "source": [
    "def dados_airtable(url, api_key):\n",
    "    url = f'{airtable_fonte_api_url}?api_key={airtable_api}'\n",
    "    requisicao = requests.get(url)\n",
    "    veiculos = requisicao.json()\n",
    "    dados = []\n",
    "    for v in veiculos['records']:\n",
    "        dados.append(v['fields'])\n",
    "    return dados\n",
    "        "
   ]
  },
  {
   "cell_type": "code",
   "execution_count": 15,
   "metadata": {},
   "outputs": [
    {
     "data": {
      "text/plain": [
       "[{'Name': 'O globo', 'facebook_id': 115230991849922},\n",
       " {'Name': 'Estadão', 'facebook_id': 12312312321},\n",
       " {'Name': 'Folha de S. Paulo', 'facebook_id': 100114543363891}]"
      ]
     },
     "execution_count": 15,
     "metadata": {},
     "output_type": "execute_result"
    }
   ],
   "source": [
    "dados_airtable(airtable_fonte_api_url, airtable_api)"
   ]
  },
  {
   "cell_type": "code",
   "execution_count": null,
   "metadata": {},
   "outputs": [],
   "source": [
    "# Passando a limpo"
   ]
  },
  {
   "cell_type": "markdown",
   "metadata": {},
   "source": [
    "-----"
   ]
  },
  {
   "cell_type": "markdown",
   "metadata": {},
   "source": [
    "### Ligando o AirTable a uma função"
   ]
  },
  {
   "cell_type": "code",
   "execution_count": 16,
   "metadata": {},
   "outputs": [],
   "source": [
    "# o que fazer com uma página de Facebook? Criar um teste\n",
    "# Pegar o feed\n",
    "facebook_id = 100114543363891\n",
    "url = f'https://graph.facebook.com/v2.11/{facebook_id}/feed?access_token={facebook_token}'\n",
    "feed = requests.get(url).json()['data']"
   ]
  },
  {
   "cell_type": "code",
   "execution_count": 18,
   "metadata": {},
   "outputs": [
    {
     "data": {
      "text/plain": [
       "{'attachments': {'data': [{'description': ' ',\n",
       "    'media': {'image': {'height': 600,\n",
       "      'src': 'https://external.xx.fbcdn.net/safe_image.php?d=AQD4VJuDNqdCcQUG&w=600&h=600&url=http%3A%2F%2Fd133mo2u8ekg8z.cloudfront.net%2Fwp-content%2Fuploads%2F2018%2F02%2F07fev18fhchuck.jpg&cfs=1&sx=497&sy=0&sw=600&sh=600&_nc_hash=AQDiwFt-bWM0-Z73',\n",
       "      'width': 600}},\n",
       "    'target': {'url': 'https://l.facebook.com/l.php?u=http%3A%2F%2Fpiaui.folha.uol.com.br%2Fc%2Fhuck-vai-conversar-com-fhc-sobre-candidatura%2F%3Futm_source%3Dfacebook%26utm_medium%3Dsocial%26utm_campaign%3Dfbfolha&h=ATOgiaJsz_S4vmv341n7siFOBNWp7hUPVFUGOnPECoDVZOz0rMzTb-RgnHTHLCP9JDoONV18OeZx00g2yHhLvjwhBV1R5KEyOV-kNBdUpl7rdl0eMiFe9d3ZOCREYiOxDx6TvwCIILYsKUtV&s=1'},\n",
       "    'title': 'Huck vai conversar com FHC sobre candidatura nesta quinta',\n",
       "    'type': 'share',\n",
       "    'url': 'https://l.facebook.com/l.php?u=http%3A%2F%2Fpiaui.folha.uol.com.br%2Fc%2Fhuck-vai-conversar-com-fhc-sobre-candidatura%2F%3Futm_source%3Dfacebook%26utm_medium%3Dsocial%26utm_campaign%3Dfbfolha&h=ATOgiaJsz_S4vmv341n7siFOBNWp7hUPVFUGOnPECoDVZOz0rMzTb-RgnHTHLCP9JDoONV18OeZx00g2yHhLvjwhBV1R5KEyOV-kNBdUpl7rdl0eMiFe9d3ZOCREYiOxDx6TvwCIILYsKUtV&s=1'}]},\n",
       " 'comments': {'data': [{'created_time': '2018-02-08T01:16:26+0000',\n",
       "    'id': '2275504752491515_2275505879158069',\n",
       "    'message': 'Ele tem a cara do PSDB.... Ele parece um Tucano mesmo kkkkk'},\n",
       "   {'created_time': '2018-02-08T01:18:39+0000',\n",
       "    'id': '2275504752491515_2275508005824523',\n",
       "    'message': 'Gente, muito triste a situação do PSDB, o fiador do golpe jurídico-parlamentar contra Dilma. Jogou o País na lama, apoia e participa de um (des)governo trágico,  perdeu o pouco de credibilidade que tinha, e não existe um nome sequer de peso que tenha competitividade no pleito de 2018. Kkk'},\n",
       "   {'created_time': '2018-02-08T01:24:55+0000',\n",
       "    'id': '2275504752491515_2275513612490629',\n",
       "    'message': 'Não voto em apresentador medíocre, amiguinho do Aécio neves e que cometeu um crime ambiental, espero que os demais eleitores sejam sensatos e não vote nesse tal de Huck caso ele se candidate.....'},\n",
       "   {'created_time': '2018-02-08T01:23:11+0000',\n",
       "    'id': '2275504752491515_2275511939157463',\n",
       "    'message': 'Bom....\\nAtiram pedra em Bolsonaro porque ele não entende de economia.\\nPois bem, Luciano Huck entende bem do que?\\nPelo menos sabe reformar casa e carro velho.\\nBrasília está uma lata velha mesmo!'},\n",
       "   {'created_time': '2018-02-08T04:26:21+0000',\n",
       "    'id': '2275504752491515_2275662219142435',\n",
       "    'message': 'Se for candidato não poderia ser de outro partido. É a cara dele, falso moralista e demagogo. Isso porque no Faustao ele disse que não estava buscando conversar com partidos políticos hahaha. ..hipócrita! Nojo desse Luciano. Mais do mesmo!'},\n",
       "   {'created_time': '2018-02-08T01:34:11+0000',\n",
       "    'id': '2275504752491515_2275522075823116',\n",
       "    'message': 'Pelo amor de Deus Luciano Huck não...muitos brasileiros votam só pq o cara é conhecido, não por ter capacidade de governar....igual fizeram com Tiririca e o que ele fez pra melhorar o país???nada, nem brigou pelo direito do povo'},\n",
       "   {'created_time': '2018-02-08T09:53:50+0000',\n",
       "    'id': '2275504752491515_2275883342453656',\n",
       "    'message': 'Esse FHC o verdadeiro afundador do Brasil,lixo,enriqueceu facial,apartamento luxuosissimo em New Iorque,porque Sério Moro não investigou ele,aí é que está,um professor vira presidente da República e aparece com apartamento luxuosissimo em lugar de milionário,cadê Sérgio Moro?Por isso é que muitos acabam duvidando dele,odeio esse homem,lixo de pessoa,acabou com o Brasil'},\n",
       "   {'created_time': '2018-02-08T02:17:18+0000',\n",
       "    'id': '2275504752491515_2275557639152893',\n",
       "    'message': 'Sinceramente, podia ser uma aposta no meio desses candidatos velhos e que vemos só aparecer na época de eleição tipo Marina, Ciro Gomes e companhia. Donald Trump que tambem veio de fora da política, tem sua personalidade problemática e seu jeito polêmico, mas mesmo assim está promovendo a ascenção da economia americana e reduzindo o número de desemprego em seu país com seus projetos.'},\n",
       "   {'created_time': '2018-02-08T02:57:55+0000',\n",
       "    'id': '2275504752491515_2275591045816219',\n",
       "    'message': 'Os únicos idiotas que sobraram (acusando o Lula pelas desgraças da humanidade) são os que votam no Bolsonaro... esses são caso perdido... de resto o Brasil saberá em quem votar... temos que lutar contra a injustiça e não contra adversários boçais'},\n",
       "   {'created_time': '2018-02-08T01:27:16+0000',\n",
       "    'id': '2275504752491515_2275515672490423',\n",
       "    'message': 'Dá pra acreditar q tem brasileiro q chama PSDB de esquerda pq tem social democracia no nome? É um país de analfabetos.  E viva a Globo,  candidata preferida do PSDB,  que muitos juram de pés juntos ser de esquerda. Entendem tudo essa gente!'},\n",
       "   {'created_time': '2018-02-08T10:27:26+0000',\n",
       "    'id': '2275504752491515_2275943565780967',\n",
       "    'message': 'Amigo do Aecim? Never! O PSDB quis acabar com o PT, mas deu um tiro no pé... Nem nome para indicar para a presidência tem. Aí chamaram o Huck que tem carisma, coitado! Partido de mafiosos! Se não fosse a globo e a justiça corrupta, metade deles estavam na cadeia.'},\n",
       "   {'created_time': '2018-02-08T02:28:03+0000',\n",
       "    'id': '2275504752491515_2275566099152047',\n",
       "    'message': 'E triste ver isso, muita gente criticando o cara por nao ser do meio político, não entender nada de política, etc. Mas esquecem que os entendedores, \"os profissionais\", administram o Brasil tão bem???'},\n",
       "   {'created_time': '2018-02-08T08:43:33+0000',\n",
       "    'id': '2275504752491515_2275828592459131',\n",
       "    'message': 'Não foi esse que pagou propina para desmatar à vontade reserva ambiental para fazer sua casa em uma ilha de Angra? \"Contratou\" até o escritório da Ancelma, para obter um decreto do governo do RJ que lhe seria favorável - fora as cercas que ele colocou para impedir que outros usassem da praia em frente á sua casa (praia é pública). Esse cara nada mais é do que um poste do mimado Aécio, que não aceita perder (tem que ser presidente de qq jeito) - caso o Huck vencesse, provavelmente o Aécio ficaria com o ministério da fazenda (dindin), Ronaldo com os esportes, Lobão com a cultura...'},\n",
       "   {'created_time': '2018-02-08T12:55:05+0000',\n",
       "    'id': '2275504752491515_2276256225749701',\n",
       "    'message': 'O problema sempre foi tentar achar um culpado se fossemos corretos ninguém  conseguiria se reeleger,desde desde que tive alguma visão política nunca vi não reclamarem.O Luciano como candidato e claro a visão de desespero,uma disputa idiota por QUANTIDADE de eleitos de um partido só,claramente e a disputa de quem tem mais cargos importantes com atenção ao cargo maior.\\nAs pessoas caíram na ladainha de o pt o pt o psdb..blá blá...mas ninguém vê a política usando o termômetro de si mesmo..onde os parâmetros são condições financeiras e estabilidade...sól quem necessita da política social sabe o que é uma politica aplicada ao bem de todos é ao bem do Brasil.\\nCorridapoliticapartidariaregressariA.'},\n",
       "   {'created_time': '2018-02-08T16:42:50+0000',\n",
       "    'id': '2275504752491515_2276604039048253',\n",
       "    'message': 'Kkkkkk.  As semelhança ele tem. Mas me diga aí pq ele seria bom para o Brasil? Será que é por causa do lata velha! Ow. Por isso que essa porcaria de pais. Não vai pra lugar nenhum. Talvez rasgue meu título.'},\n",
       "   {'created_time': '2018-02-08T11:57:20+0000',\n",
       "    'id': '2275504752491515_2276174202424570',\n",
       "    'message': 'O povo sem alternativa , tenta uma solução .... \\nVotar em um playboy apresentador de uma emissora lixo \\nHá pouco fizeram isso com prefeito , que por sinal estamos pagando o parto . Agora querem colocar outro playboy na presidência .\\nIsso só acontece em nosso país ....\\nViva o Brasil'},\n",
       "   {'created_time': '2018-02-08T21:52:21+0000',\n",
       "    'id': '2275504752491515_2277037179004939',\n",
       "    'message': '1) Isso parece fazer parte dos capítulos finais da \"trama\"!      2) Nunca foi, sequer um vereador!                                      3) Nunca (o Povo) o vimos (Ruck) falar pelo menos o básico de Saúde/economia/Planejamento, etc, etc...          4) Deve ter bebido um etílico, a mais, na festa do Neymar e o efeito ainda não passou!'},\n",
       "   {'created_time': '2018-02-08T11:49:01+0000',\n",
       "    'id': '2275504752491515_2276157549092902',\n",
       "    'message': 'Quem mesmo que enfiou o Brasil nesse buraco sem fim? nós  né? não fomos nós que escolhemos a corja? pois é....e ainda queremos escolher entre os que já mostraram do que são capazes ,quando aparece alguém que não conhecemos na política o mesmo povo passa a criticar sem nem mesmo saber como vai ser , quer continuar com os que sabem já com antecedência o que vão  fazer.'},\n",
       "   {'created_time': '2018-02-08T17:50:25+0000',\n",
       "    'id': '2275504752491515_2276722585703065',\n",
       "    'message': 'Kkkk ja comecou mal, indo conversar com o responsavel da heranca maldita chamada GILMAR MENDES, e responsavel pelo desvio do dinheiro da previdencia poi fez um MP para poder usar esse dinheiro para outra coisa. \\n\\nFHC lixo de politico, foram alem de nao ter vergonha na cara e usar mais de 6,5milhoes pela lei Rouanet.'},\n",
       "   {'created_time': '2018-02-08T09:02:35+0000',\n",
       "    'id': '2275504752491515_2275841025791221',\n",
       "    'message': 'O Brasil tá neste lama, quebrado devido a população que não sabe votar, só votam em quem esta em alta na pesquisa e nome na mídia não tem personalidade. Gente esse povo já roubou demais, votem em outros pelo amor de Deus.'},\n",
       "   {'created_time': '2018-02-08T10:51:18+0000',\n",
       "    'id': '2275504752491515_2275996702442320',\n",
       "    'message': 'O dissimulado esquerdista Fumadinho Henrique Cardoso prepara um marionete global para fazer a reengenharia da estratégia de poder dos vermelhinhos ladroes... rs...rs Doria ainda é o melhor que a esquerda pode apoiar... mas mesmo assim vai sucumbir ao melhor: AVANTE BOLSONARO! O resto é lixo! 😉'},\n",
       "   {'created_time': '2018-02-08T06:30:16+0000',\n",
       "    'id': '2275504752491515_2275741029134554',\n",
       "    'message': 'É o que temos, não tem perfil de estadista, mas tem alguma prática, toca um programa. Essa falta de líderes nas últimas gerações, deve ser creditada aos militares, foram eles que esterilizaram lideranças que se formavam, dos dois lados, bastava não concordar com o regime, através de torturas e assassinatos.'},\n",
       "   {'created_time': '2018-02-08T01:33:31+0000',\n",
       "    'id': '2275504752491515_2275521545823169',\n",
       "    'message': 'Continuação do aecio, ja que são amigos e parceiros...FHC fará qualquer negócio para tirar de vez adversários que possivelmente se elegeria na vontade do povo brasileiro, ( até fazer um pacto com o diabo. ..)'},\n",
       "   {'created_time': '2018-02-08T01:45:42+0000',\n",
       "    'id': '2275504752491515_2275531939155463',\n",
       "    'message': 'Prefiro o já caquético apresentador Silvio Santos, pelo menos tem visão para animar a platéia de qualquer circo. Hehehe - Silvio Santos vem aí, lá, lá, lá... Já possui até chavão para tratar os debilóides: \"minhas colegas\"  (e meus colegas!)   de \"auditório\"!'},\n",
       "   {'created_time': '2018-02-08T10:34:53+0000',\n",
       "    'id': '2275504752491515_2275971235778200',\n",
       "    'message': 'Golpistas vagabundos , não tem voto para vencer a eleição aí usa a bandidagem togada para fazer o trabalho sujo e tirar do páreo o  favorito para ganhar a eleição e por outro lado inventam candidaturas bizarras para enganarar o povo.'}],\n",
       "  'paging': {'cursors': {'after': 'NzU2', 'before': 'Nzgz'},\n",
       "   'next': 'https://graph.facebook.com/v2.11/100114543363891_2275504752491515/comments?access_token=1691171541170808%7CjfTfFxI-esYpbRZKu2Q9ly-yLLk&summary=true&limit=25&after=NzU2'},\n",
       "  'summary': {'can_comment': False, 'order': 'ranked', 'total_count': 783}},\n",
       " 'created_time': '2018-02-08T01:15:03+0000',\n",
       " 'description': ' ',\n",
       " 'id': '100114543363891_2275504752491515',\n",
       " 'link': 'http://piaui.folha.uol.com.br/c/huck-vai-conversar-com-fhc-sobre-candidatura/?utm_source=facebook&utm_medium=social&utm_campaign=fbfolha',\n",
       " 'message': 'Ex-presidente disse que candidatura seria “boa para o Brasil”. (via revista piauí) #folha',\n",
       " 'permalink_url': 'https://www.facebook.com/folhadesp/posts/2275504752491515',\n",
       " 'shares': {'count': 307},\n",
       " 'type': 'link'}"
      ]
     },
     "execution_count": 18,
     "metadata": {},
     "output_type": "execute_result"
    }
   ],
   "source": [
    "# Pegar os dados individuais \n",
    "facebook_id = '100114543363891_2275504752491515'\n",
    "fields = 'attachments,comments.summary(true),created_time,description,link,message,permalink_url,shares,type'\n",
    "url = f'https://graph.facebook.com/v2.11/{facebook_id}?fields={fields}&access_token={facebook_token}'\n",
    "r = requests.get(url).json()\n",
    "r"
   ]
  },
  {
   "cell_type": "code",
   "execution_count": 40,
   "metadata": {},
   "outputs": [],
   "source": [
    "# Transformar em função\n",
    "\n",
    "def get_feed(page_id, facebook_token):\n",
    "    url = f'https://graph.facebook.com/v2.11/{page_id}/feed?access_token={facebook_token}'\n",
    "    feed = requests.get(url).json()['data']\n",
    "    lista_de_posts = []\n",
    "    for entrada in feed:\n",
    "        lista_de_posts.append(entrada['id'])\n",
    "    return lista_de_posts\n",
    "\n",
    "def get_post_stats(post_id, facebook_token):\n",
    "    # Pegar os dados individuais \n",
    "    fields = 'attachments,comments.summary(true),created_time,description,link,message,permalink_url,shares,type'\n",
    "    url = f'https://graph.facebook.com/v2.11/{post_id}?fields={fields}&access_token={facebook_token}'\n",
    "    r = requests.get(url).json()\n",
    "    return r\n",
    "\n",
    "def get_objects(page):\n",
    "    posts = get_feed(page, facebook_token)\n",
    "    dados = []\n",
    "    for post in posts:\n",
    "        info = get_post_stats(post, facebook_token)\n",
    "        dados.append(info)\n",
    "    for d in dados:\n",
    "        print(tem_intervencao(d))\n",
    "        \n",
    "# for loop com diferentes páginas (print)\n",
    "def tem_intervencao(post):\n",
    "    if 'message' in post:\n",
    "        if 'intervenção' in post['message']:\n",
    "            return {\"mensagem\": post['message'], \n",
    "                    \"link\": post['permalink_url']}\n",
    "\n"
   ]
  },
  {
   "cell_type": "markdown",
   "metadata": {},
   "source": [
    "----"
   ]
  },
  {
   "cell_type": "markdown",
   "metadata": {},
   "source": [
    "### Inserindo os dados na AirTable"
   ]
  },
  {
   "cell_type": "code",
   "execution_count": 45,
   "metadata": {},
   "outputs": [],
   "source": [
    "# Criando novas linhas\n",
    "\n",
    "airtable_destino_api_url = 'https://api.airtable.com/v0/appS6w7do1Xy0skha/Table%201'\n",
    "headers = {\"Authorization\": f'Bearer {airtable_api}'}\n",
    "new_content = {\"fields\": {\"mensagem\": \"isso é um teste\", \"link\": \"http://www.google.com\"}} # Dicionário com as informações da nova linha\n",
    "s = requests.post(airtable_destino_api_url, json=new_content, headers=headers)"
   ]
  },
  {
   "cell_type": "code",
   "execution_count": null,
   "metadata": {},
   "outputs": [],
   "source": [
    "def adicionar_linha(novos_dados):\n",
    "    airtable_destino_api_url = 'https://api.airtable.com/v0/appS6w7do1Xy0skha/Table%201'\n",
    "    headers = {\"Authorization\": f'Bearer {airtable_api}'}\n",
    "    new_content = {\"fields\": novos_dados}\n",
    "    s = requests.post(airtable_destino_api_url, json=new_content, headers=headers)\n",
    "    print('dados_acrescentados')"
   ]
  },
  {
   "cell_type": "code",
   "execution_count": 43,
   "metadata": {},
   "outputs": [
    {
     "data": {
      "text/plain": [
       "b'{\"error\":{\"type\":\"INVALID_REQUEST_MISSING_FIELDS\",\"message\":\"Could not find field \\\\\"fields\\\\\" in the request body\"}}'"
      ]
     },
     "execution_count": 43,
     "metadata": {},
     "output_type": "execute_result"
    }
   ],
   "source": [
    "s.content"
   ]
  },
  {
   "cell_type": "code",
   "execution_count": null,
   "metadata": {},
   "outputs": [],
   "source": [
    "# Rodando a função anterior, armazenando o código"
   ]
  },
  {
   "cell_type": "code",
   "execution_count": null,
   "metadata": {},
   "outputs": [],
   "source": [
    "# Se não houver uma entrada anterior, acrescentar"
   ]
  },
  {
   "cell_type": "code",
   "execution_count": 48,
   "metadata": {},
   "outputs": [],
   "source": [
    "# Organizando tudo em um arquivo .py"
   ]
  },
  {
   "cell_type": "markdown",
   "metadata": {},
   "source": [
    "----"
   ]
  },
  {
   "cell_type": "markdown",
   "metadata": {},
   "source": [
    "**Snippets úteis:**"
   ]
  },
  {
   "cell_type": "code",
   "execution_count": 9,
   "metadata": {},
   "outputs": [],
   "source": [
    "# Pegar o feed\n",
    "facebook_id = ''\n",
    "url = f'https://graph.facebook.com/v2.11/{facebook_id}/feed?access_token={facebook_token}'\n",
    "feed = requests.get(url).json()['data']"
   ]
  },
  {
   "cell_type": "code",
   "execution_count": null,
   "metadata": {},
   "outputs": [],
   "source": [
    "# Pegar os dados individuais \n",
    "facebook_id = ''\n",
    "fields = 'attachments,comments.summary(true),created_time,description,link,message,permalink_url,shares,type'\n",
    "url = f'https://graph.facebook.com/v2.11/{facebook_id}?fields={fields}&access_token={facebook_token}'\n",
    "r = requests.get(url).json()"
   ]
  },
  {
   "cell_type": "code",
   "execution_count": null,
   "metadata": {},
   "outputs": [],
   "source": []
  }
 ],
 "metadata": {
  "kernelspec": {
   "display_name": "Python 3",
   "language": "python",
   "name": "python3"
  },
  "language_info": {
   "codemirror_mode": {
    "name": "ipython",
    "version": 3
   },
   "file_extension": ".py",
   "mimetype": "text/x-python",
   "name": "python",
   "nbconvert_exporter": "python",
   "pygments_lexer": "ipython3",
   "version": "3.6.3"
  }
 },
 "nbformat": 4,
 "nbformat_minor": 2
}
